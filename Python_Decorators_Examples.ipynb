{
 "cells": [
  {
   "cell_type": "markdown",
   "metadata": {},
   "source": [
    "# Basic Decorator Class without Arguments"
   ]
  },
  {
   "cell_type": "code",
   "execution_count": 48,
   "metadata": {},
   "outputs": [
    {
     "name": "stdout",
     "output_type": "stream",
     "text": [
      "inside myDecorator.__init__()\n",
      "inside aFunction()\n",
      "Finished decorating aFunction()\n",
      "inside myDecorator.__call__()\n"
     ]
    }
   ],
   "source": [
    "class myDecorator(object):\n",
    "\n",
    "    def __init__(self, f, *args, **kwargs):\n",
    "        print(\"inside myDecorator.__init__()\")\n",
    "        f() # Prove that function definition has completed\n",
    "\n",
    "    def __call__(self, *args, **kwargs):\n",
    "        print(\"inside myDecorator.__call__()\")\n",
    "\n",
    "@myDecorator\n",
    "def aFunction():\n",
    "    print(\"inside aFunction()\")\n",
    "\n",
    "print(\"Finished decorating aFunction()\")\n",
    "\n",
    "aFunction()\n"
   ]
  },
  {
   "cell_type": "code",
   "execution_count": 49,
   "metadata": {},
   "outputs": [
    {
     "name": "stdout",
     "output_type": "stream",
     "text": [
      "Entering func1\n",
      "inside func1()\n",
      "Exited func1\n",
      "Entering func2\n",
      "inside func2()\n",
      "Exited func2\n"
     ]
    }
   ],
   "source": [
    "class entryExit(object):\n",
    "\n",
    "    def __init__(self, f):\n",
    "        self.f = f\n",
    "\n",
    "    def __call__(self):\n",
    "        print (\"Entering\", self.f.__name__)\n",
    "        self.f()\n",
    "        print (\"Exited\", self.f.__name__)\n",
    "\n",
    "@entryExit\n",
    "def func1():\n",
    "    print(\"inside func1()\")\n",
    "\n",
    "@entryExit\n",
    "def func2():\n",
    "    print (\"inside func2()\")\n",
    "\n",
    "func1()\n",
    "func2()\n"
   ]
  },
  {
   "cell_type": "markdown",
   "metadata": {},
   "source": [
    "# Decorator Function without Arguments"
   ]
  },
  {
   "cell_type": "code",
   "execution_count": 44,
   "metadata": {},
   "outputs": [
    {
     "name": "stdout",
     "output_type": "stream",
     "text": [
      "Entering func1\n",
      "inside func1()\n",
      "Exited func1\n",
      "Entering func2\n",
      "inside func2()\n",
      "Exited func2\n",
      "func1\n"
     ]
    }
   ],
   "source": [
    "from functools import wraps\n",
    "def entryExit(f):\n",
    "    @wraps(f)\n",
    "    def new_f():\n",
    "        print (\"Entering\", f.__name__)\n",
    "        f()\n",
    "        print (\"Exited\", f.__name__)\n",
    "    return new_f\n",
    "\n",
    "@entryExit\n",
    "def func1():\n",
    "    print (\"inside func1()\")\n",
    "\n",
    "@entryExit\n",
    "def func2():\n",
    "    print (\"inside func2()\")\n",
    "\n",
    "func1()\n",
    "func2()\n",
    "print (func1.__name__)"
   ]
  },
  {
   "cell_type": "markdown",
   "metadata": {},
   "source": [
    "# Decorator Class without Arguments"
   ]
  },
  {
   "cell_type": "code",
   "execution_count": 27,
   "metadata": {},
   "outputs": [
    {
     "name": "stdout",
     "output_type": "stream",
     "text": [
      "Inside __init__()\n",
      "After decoration\n"
     ]
    }
   ],
   "source": [
    "class decoratorWithoutArguments(object):\n",
    "\n",
    "    def __init__(self, f):\n",
    "        \"\"\"\n",
    "        If there are no decorator arguments, the function\n",
    "        to be decorated is passed to the constructor.\n",
    "        \"\"\"\n",
    "        print (\"Inside __init__()\")\n",
    "        self.f = f\n",
    "\n",
    "    def __call__(self, *args):\n",
    "        \"\"\"\n",
    "        The __call__ method is not called until the\n",
    "        decorated function is called.\n",
    "        \"\"\"\n",
    "        print (\"Inside __call__()\")\n",
    "        self.f(*args)\n",
    "        print (\"After self.f(*args)\")\n",
    "\n",
    "@decoratorWithoutArguments\n",
    "def sayHello(a1, a2, a3, a4):\n",
    "    print ('sayHello arguments:', a1, a2, a3, a4)\n",
    "\n",
    "print (\"After decoration\")"
   ]
  },
  {
   "cell_type": "code",
   "execution_count": 43,
   "metadata": {},
   "outputs": [
    {
     "name": "stdout",
     "output_type": "stream",
     "text": [
      "Preparing to call sayHello()\n",
      "Inside wrapped_f()\n",
      "Decorator arguments: hello world 42\n",
      "sayHello arguments: say hello argument list\n",
      "After f(*args)\n",
      "After first sayHello() call\n",
      "Inside wrapped_f()\n",
      "Decorator arguments: hello world 42\n",
      "sayHello arguments: a different set of arguments\n",
      "After f(*args)\n",
      "After second sayHello() call\n",
      "sayHello\n"
     ]
    }
   ],
   "source": [
    "print (\"Preparing to call sayHello()\")\n",
    "sayHello(\"say\", \"hello\", \"argument\", \"list\")\n",
    "print (\"After first sayHello() call\")\n",
    "sayHello(\"a\", \"different\", \"set of\", \"arguments\")\n",
    "print (\"After second sayHello() call\")\n",
    "print(sayHello.__name__)"
   ]
  },
  {
   "cell_type": "markdown",
   "metadata": {},
   "source": [
    "# Decorator Class with Arguments"
   ]
  },
  {
   "cell_type": "code",
   "execution_count": 42,
   "metadata": {},
   "outputs": [
    {
     "name": "stdout",
     "output_type": "stream",
     "text": [
      "Inside __init__()\n",
      "Inside __call__()\n",
      "### After decoration\n",
      "### Preparing to call sayHello()\n",
      "Inside wrapped_f()\n",
      "Decorator arguments: hello world 42\n",
      "sayHello arguments: say hello argument list\n",
      "After f(*args)\n",
      "### after first sayHello() call\n",
      "Inside wrapped_f()\n",
      "Decorator arguments: hello world 42\n",
      "sayHello arguments: a different set of arguments\n",
      "After f(*args)\n",
      "### after second sayHello() call\n",
      "sayHello\n"
     ]
    }
   ],
   "source": [
    "from functools import wraps\n",
    "class decoratorWithArguments(object):\n",
    "\n",
    "    def __init__(self, arg1, arg2, arg3):\n",
    "        \"\"\"\n",
    "        If there are decorator arguments, the function\n",
    "        to be decorated is NOT passed to the constructor!\n",
    "        \"\"\"\n",
    "        print (\"Inside __init__()\")\n",
    "        self.arg1 = arg1\n",
    "        self.arg2 = arg2\n",
    "        self.arg3 = arg3\n",
    "\n",
    "    def __call__(self, f):\n",
    "        \"\"\"\n",
    "        If there are decorator arguments, __call__() is only called\n",
    "        once, as part of the decoration process! You can only give\n",
    "        it a SINGLE argument, which is the function object.\n",
    "        \"\"\"\n",
    "        print (\"Inside __call__()\")\n",
    "        @wraps(f)\n",
    "        def wrapped_f(*args):\n",
    "            print (\"Inside wrapped_f()\")\n",
    "            print (\"Decorator arguments:\", self.arg1, self.arg2, self.arg3)\n",
    "            f(*args)\n",
    "            print (\"After f(*args)\")\n",
    "        return wrapped_f\n",
    "\n",
    "@decoratorWithArguments(\"hello\", \"world\", 42)\n",
    "def sayHello(a1, a2, a3, a4):\n",
    "    print ('sayHello arguments:', a1, a2, a3, a4)\n",
    "\n",
    "print (\"### After decoration\")\n",
    "\n",
    "print (\"### Preparing to call sayHello()\")\n",
    "sayHello(\"say\", \"hello\", \"argument\", \"list\")\n",
    "print (\"### after first sayHello() call\")\n",
    "sayHello(\"a\", \"different\", \"set of\", \"arguments\")\n",
    "print (\"### after second sayHello() call\")\n",
    "print(sayHello.__name__)"
   ]
  },
  {
   "cell_type": "markdown",
   "metadata": {},
   "source": [
    "# Decorator Function with Decorator Arguments"
   ]
  },
  {
   "cell_type": "code",
   "execution_count": 40,
   "metadata": {},
   "outputs": [
    {
     "name": "stdout",
     "output_type": "stream",
     "text": [
      "Inside wrap()\n",
      "### After decoration\n",
      "### Preparing to call sayHello()\n",
      "Inside wrapped_f()\n",
      "Decorator arguments: hello world 42\n",
      "sayHello arguments: say hello argument list\n",
      "After f(*args)\n",
      "### after first sayHello() call\n",
      "Inside wrapped_f()\n",
      "Decorator arguments: hello world 42\n",
      "sayHello arguments: a different set of arguments\n",
      "After f(*args)\n",
      "### after second sayHello() call\n",
      "sayHello\n"
     ]
    }
   ],
   "source": [
    "from functools import wraps\n",
    "def decoratorFunctionWithArguments(arg1, arg2, arg3):\n",
    "    def wrap(f):\n",
    "        print (\"Inside wrap()\")\n",
    "        @wraps(f)\n",
    "        def wrapped_f(*args):\n",
    "            print (\"Inside wrapped_f()\")\n",
    "            print (\"Decorator arguments:\", arg1, arg2, arg3)\n",
    "            f(*args)\n",
    "            print (\"After f(*args)\")\n",
    "        return wrapped_f\n",
    "    return wrap\n",
    "\n",
    "@decoratorFunctionWithArguments(\"hello\", \"world\", 42)\n",
    "def sayHello(a1, a2, a3, a4):\n",
    "    print ('sayHello arguments:', a1, a2, a3, a4)\n",
    "\n",
    "print (\"### After decoration\")\n",
    "\n",
    "print (\"### Preparing to call sayHello()\")\n",
    "sayHello(\"say\", \"hello\", \"argument\", \"list\")\n",
    "print (\"### after first sayHello() call\")\n",
    "sayHello(\"a\", \"different\", \"set of\", \"arguments\")\n",
    "print (\"### after second sayHello() call\")\n",
    "print(sayHello.__name__)"
   ]
  },
  {
   "cell_type": "code",
   "execution_count": null,
   "metadata": {},
   "outputs": [],
   "source": []
  },
  {
   "cell_type": "code",
   "execution_count": null,
   "metadata": {},
   "outputs": [],
   "source": []
  }
 ],
 "metadata": {
  "kernelspec": {
   "display_name": "Python 3",
   "language": "python",
   "name": "python3"
  },
  "language_info": {
   "codemirror_mode": {
    "name": "ipython",
    "version": 3
   },
   "file_extension": ".py",
   "mimetype": "text/x-python",
   "name": "python",
   "nbconvert_exporter": "python",
   "pygments_lexer": "ipython3",
   "version": "3.7.3"
  }
 },
 "nbformat": 4,
 "nbformat_minor": 2
}
